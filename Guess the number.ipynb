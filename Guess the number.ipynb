{
 "cells": [
  {
   "cell_type": "markdown",
   "metadata": {},
   "source": [
    "### Write a programme where the computer randomly generates a number between 0 and 20. The user needs to guess what the number is. If the user guesses wrong tell them their guess is either too high, or too low."
   ]
  },
  {
   "cell_type": "code",
   "execution_count": 4,
   "metadata": {},
   "outputs": [],
   "source": [
    "#importing the relevant module.\n",
    "import random"
   ]
  },
  {
   "cell_type": "code",
   "execution_count": 5,
   "metadata": {},
   "outputs": [
    {
     "name": "stdout",
     "output_type": "stream",
     "text": [
      "Pick a number: 5\n",
      "Number is correct\n"
     ]
    }
   ],
   "source": [
    "def generate_num():\n",
    "    # creating a user input and assigning it a variable name.\n",
    "    random_number = int(input(\"Pick a number: \"))\n",
    "    #using the random module to generate a random number between 0 and 20\n",
    "    generated_number= random.randint(0,20)\n",
    "    if random_number==generated_number:\n",
    "        print(\"Number is correct\")\n",
    "    elif random_number> generated_number:\n",
    "        print(\"Number is too high\")\n",
    "    else:\n",
    "         print(\"Number is too low\")\n",
    "generate_num()"
   ]
  }
 ],
 "metadata": {
  "kernelspec": {
   "display_name": "Python 3",
   "language": "python",
   "name": "python3"
  },
  "language_info": {
   "codemirror_mode": {
    "name": "ipython",
    "version": 3
   },
   "file_extension": ".py",
   "mimetype": "text/x-python",
   "name": "python",
   "nbconvert_exporter": "python",
   "pygments_lexer": "ipython3",
   "version": "3.6.5"
  }
 },
 "nbformat": 4,
 "nbformat_minor": 4
}
