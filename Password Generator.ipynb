{
 "cells": [
  {
   "cell_type": "markdown",
   "metadata": {},
   "source": [
    "### Write a program, which generates a random password for the user.Ask the user how long they want their password to be , and how many letters and numbers they want in their password. Have a mix of upper and lowercase, as well as numbers and symbols. The password should be a minimum of 6 characters."
   ]
  },
  {
   "cell_type": "code",
   "execution_count": 1,
   "metadata": {},
   "outputs": [],
   "source": [
    "#importing the relevant modules.\n",
    "import string\n",
    "import random"
   ]
  },
  {
   "cell_type": "code",
   "execution_count": 2,
   "metadata": {},
   "outputs": [
    {
     "name": "stdout",
     "output_type": "stream",
     "text": [
      "How long do you want your password: 10\n",
      "How many letters do you want in your password: 3\n",
      "How many numbers do you want in your password: 4\n",
      "48G@G5:b5*\n"
     ]
    }
   ],
   "source": [
    "#defining a funtion to generate the password.\n",
    "def random_password():\n",
    "    # requesting for inputs for the lenght of password.\n",
    "    length = int(input(\"How long do you want your password: \"))\n",
    "    # Using an if statement to ensure the length of the password given is more than 6.\n",
    "    if length<6:\n",
    "        print(\"Your password is too short\")\n",
    "        random_password()\n",
    "        # If the length of the if statement is more than 6 then the code below is run.\n",
    "    else:\n",
    "        # requesting for inputs for the length of letters and numbers wanted.\n",
    "        letters = int(input(\"How many letters do you want in your password: \"))\n",
    "        numbers = int(input(\"How many numbers do you want in your password: \"))\n",
    "        '''If the length of the password is greater than\n",
    "        or equal to the sum of the length of letters and number then the code below is run.'''\n",
    "        if length >= (letters+numbers):\n",
    "            password=\"\" # creating an empty password string that the code below would be added to.\n",
    "            # random letters are generated both uppercase and lowercase and are of the length given.\n",
    "            for i in range(letters):\n",
    "                #string.ascii_letters generates random letters from both upper and lowercase alphabets.\n",
    "                 password+=random.choice(string.ascii_letters)\n",
    "            # random numbers are choosen and are of the length inputed.\n",
    "            for i in range(numbers):\n",
    "                password+=random.choice(string.digits)\n",
    "            '''random symbold are choosen and are of the remainder of the length after\n",
    "                    deducting the number of letters and number.''' \n",
    "            for i in range(length-(letters+numbers)):\n",
    "                password+=random.choice(string.punctuation)\n",
    "            '''password has to be converted from a string to a list \n",
    "                since random.sample() does not work on strings but \n",
    "                works on strings,tuples etc.'''\n",
    "            password=list(password)\n",
    "            # Used random.sample to shuffle the password.\n",
    "            password = random.sample(password,len(password))\n",
    "            #.join() is used to join th password list into a string.\n",
    "            password = \"\".join(password)\n",
    "            # the function returns the password generated.\n",
    "            print(password)\n",
    "            '''If the length of the password is less than\n",
    "        the sum of the length of letters and number then the code below is run.'''\n",
    "        else:\n",
    "            print(\"The length of the password is less than the sum of the length of the letters and numbers.\")\n",
    "            random_password()\n",
    "# The function is called.\n",
    "random_password()"
   ]
  },
  {
   "cell_type": "code",
   "execution_count": null,
   "metadata": {},
   "outputs": [],
   "source": []
  }
 ],
 "metadata": {
  "kernelspec": {
   "display_name": "Python 3",
   "language": "python",
   "name": "python3"
  },
  "language_info": {
   "codemirror_mode": {
    "name": "ipython",
    "version": 3
   },
   "file_extension": ".py",
   "mimetype": "text/x-python",
   "name": "python",
   "nbconvert_exporter": "python",
   "pygments_lexer": "ipython3",
   "version": "3.6.5"
  }
 },
 "nbformat": 4,
 "nbformat_minor": 4
}
