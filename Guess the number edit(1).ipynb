{
 "cells": [
  {
   "cell_type": "markdown",
   "metadata": {},
   "source": [
    "### Write a programme where the computer randomly generates a number between 0 and 20. The user needs to guess what the number is. If the user guesses wrong tell them their guess is either too high, or too low."
   ]
  },
  {
   "cell_type": "code",
   "execution_count": 1,
   "metadata": {},
   "outputs": [],
   "source": [
    "#importing the relevant module.\n",
    "import random"
   ]
  },
  {
   "cell_type": "code",
   "execution_count": 2,
   "metadata": {},
   "outputs": [
    {
     "name": "stdout",
     "output_type": "stream",
     "text": [
      "You have Total of 6 guesses\n",
      "Pick a number between 0 and 20: 20\n",
      "Your guess is too high\n",
      "You have 5 guesses left\n",
      "Pick a number between 0 and 20: 12\n",
      "Your guess is too high\n",
      "You have 4 guesses left\n",
      "Pick a number between 0 and 20: 5\n",
      "Your guess is too low\n",
      "You have 3 guesses left\n",
      "Pick a number between 0 and 20: 11\n",
      "Your guess is too high\n",
      "You have 2 guesses left\n",
      "Pick a number between 0 and 20: 3\n",
      "Your guess is too low\n",
      "You have 1 guesses left\n",
      "Pick a number between 0 and 20: 9\n",
      "Your guess is too low\n",
      "You have 0 guesses left\n"
     ]
    }
   ],
   "source": [
    "def generate_num():\n",
    "    #using the random module to generate a random number between 0 and 20\n",
    "    i=0\n",
    "    print(\"You have Total of 6 guesses\")\n",
    "    # total number of 6 guesses\n",
    "    while i<6:\n",
    "        # creating a user input and assigning it a variable name.\n",
    "        random_number = int(input(\"Pick a number between 0 and 20: \"))\n",
    "        generated_number= random.randint(0,20)\n",
    "        if random_number==generated_number:\n",
    "            print(\"Your guess is correct\")\n",
    "            break\n",
    "        elif random_number> generated_number:\n",
    "            print(\"Your guess is too high\")\n",
    "        else:\n",
    "             print(\"Your guess is too low\")\n",
    "        i+=1\n",
    "        print(\"You have {} guesses left\".format(6-i))\n",
    "generate_num()"
   ]
  }
 ],
 "metadata": {
  "kernelspec": {
   "display_name": "Python 3",
   "language": "python",
   "name": "python3"
  },
  "language_info": {
   "codemirror_mode": {
    "name": "ipython",
    "version": 3
   },
   "file_extension": ".py",
   "mimetype": "text/x-python",
   "name": "python",
   "nbconvert_exporter": "python",
   "pygments_lexer": "ipython3",
   "version": "3.6.5"
  }
 },
 "nbformat": 4,
 "nbformat_minor": 4
}
